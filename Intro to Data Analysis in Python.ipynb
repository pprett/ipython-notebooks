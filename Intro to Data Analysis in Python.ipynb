{
 "metadata": {
  "name": ""
 },
 "nbformat": 3,
 "nbformat_minor": 0,
 "worksheets": [
  {
   "cells": [
    {
     "cell_type": "markdown",
     "metadata": {},
     "source": [
      "# Data Analysis in Python\n",
      "\n",
      "Python is a powerfull general purpose programming language with a strong scientific computing stack. This notebook will introduce some of the core components of Python's scientific computing stack which are commonly used in data analysis tasks: \n",
      "\n",
      "  * numpy\n",
      "  * pandas\n",
      "  * matplotlib\n",
      "  * scikit-learn"
     ]
    },
    {
     "cell_type": "markdown",
     "metadata": {},
     "source": [
      "## Numpy\n",
      "\n",
      "Numpy is the lingua-franca in the Python scientific computing eco-system. It provides a n-dimensional array object that holds elements of a specific ``dtype`` (eg. ``numpy.float64`` or ``numpy.int``)."
     ]
    },
    {
     "cell_type": "code",
     "collapsed": false,
     "input": [
      "a = np.arange(0, 10)  # create a list of 10 elements"
     ],
     "language": "python",
     "metadata": {},
     "outputs": []
    },
    {
     "cell_type": "markdown",
     "metadata": {},
     "source": [
      "## Pandas\n",
      "\n",
      "Whereas numpy provides data structure for homogenious data, Pandas provides a data structure for heterogenous data."
     ]
    },
    {
     "cell_type": "code",
     "collapsed": false,
     "input": [
      "import pandas as pd\n",
      "df = pd.DataFrame(np.random.rand(10, 5))\n",
      "df"
     ],
     "language": "python",
     "metadata": {},
     "outputs": [
      {
       "html": [
        "<div style=\"max-height:1000px;max-width:1500px;overflow:auto;\">\n",
        "<table border=\"1\" class=\"dataframe\">\n",
        "  <thead>\n",
        "    <tr style=\"text-align: right;\">\n",
        "      <th></th>\n",
        "      <th>0</th>\n",
        "      <th>1</th>\n",
        "      <th>2</th>\n",
        "      <th>3</th>\n",
        "      <th>4</th>\n",
        "    </tr>\n",
        "  </thead>\n",
        "  <tbody>\n",
        "    <tr>\n",
        "      <th>0</th>\n",
        "      <td> 0.006596</td>\n",
        "      <td> 0.539039</td>\n",
        "      <td> 0.475226</td>\n",
        "      <td> 0.060728</td>\n",
        "      <td> 0.716998</td>\n",
        "    </tr>\n",
        "    <tr>\n",
        "      <th>1</th>\n",
        "      <td> 0.591937</td>\n",
        "      <td> 0.198082</td>\n",
        "      <td> 0.335788</td>\n",
        "      <td> 0.655521</td>\n",
        "      <td> 0.936816</td>\n",
        "    </tr>\n",
        "    <tr>\n",
        "      <th>2</th>\n",
        "      <td> 0.549431</td>\n",
        "      <td> 0.429843</td>\n",
        "      <td> 0.110998</td>\n",
        "      <td> 0.134008</td>\n",
        "      <td> 0.282730</td>\n",
        "    </tr>\n",
        "    <tr>\n",
        "      <th>3</th>\n",
        "      <td> 0.658926</td>\n",
        "      <td> 0.989170</td>\n",
        "      <td> 0.983716</td>\n",
        "      <td> 0.384239</td>\n",
        "      <td> 0.999304</td>\n",
        "    </tr>\n",
        "    <tr>\n",
        "      <th>4</th>\n",
        "      <td> 0.613611</td>\n",
        "      <td> 0.224271</td>\n",
        "      <td> 0.075817</td>\n",
        "      <td> 0.928722</td>\n",
        "      <td> 0.896033</td>\n",
        "    </tr>\n",
        "    <tr>\n",
        "      <th>5</th>\n",
        "      <td> 0.057467</td>\n",
        "      <td> 0.204939</td>\n",
        "      <td> 0.094020</td>\n",
        "      <td> 0.069914</td>\n",
        "      <td> 0.093963</td>\n",
        "    </tr>\n",
        "    <tr>\n",
        "      <th>6</th>\n",
        "      <td> 0.645751</td>\n",
        "      <td> 0.919799</td>\n",
        "      <td> 0.298819</td>\n",
        "      <td> 0.542430</td>\n",
        "      <td> 0.388240</td>\n",
        "    </tr>\n",
        "    <tr>\n",
        "      <th>7</th>\n",
        "      <td> 0.737430</td>\n",
        "      <td> 0.114118</td>\n",
        "      <td> 0.518885</td>\n",
        "      <td> 0.338365</td>\n",
        "      <td> 0.382840</td>\n",
        "    </tr>\n",
        "    <tr>\n",
        "      <th>8</th>\n",
        "      <td> 0.176111</td>\n",
        "      <td> 0.143117</td>\n",
        "      <td> 0.243733</td>\n",
        "      <td> 0.192696</td>\n",
        "      <td> 0.673188</td>\n",
        "    </tr>\n",
        "    <tr>\n",
        "      <th>9</th>\n",
        "      <td> 0.948984</td>\n",
        "      <td> 0.118652</td>\n",
        "      <td> 0.459734</td>\n",
        "      <td> 0.703487</td>\n",
        "      <td> 0.803048</td>\n",
        "    </tr>\n",
        "  </tbody>\n",
        "</table>\n",
        "</div>"
       ],
       "metadata": {},
       "output_type": "pyout",
       "prompt_number": 1,
       "text": [
        "          0         1         2         3         4\n",
        "0  0.006596  0.539039  0.475226  0.060728  0.716998\n",
        "1  0.591937  0.198082  0.335788  0.655521  0.936816\n",
        "2  0.549431  0.429843  0.110998  0.134008  0.282730\n",
        "3  0.658926  0.989170  0.983716  0.384239  0.999304\n",
        "4  0.613611  0.224271  0.075817  0.928722  0.896033\n",
        "5  0.057467  0.204939  0.094020  0.069914  0.093963\n",
        "6  0.645751  0.919799  0.298819  0.542430  0.388240\n",
        "7  0.737430  0.114118  0.518885  0.338365  0.382840\n",
        "8  0.176111  0.143117  0.243733  0.192696  0.673188\n",
        "9  0.948984  0.118652  0.459734  0.703487  0.803048"
       ]
      }
     ],
     "prompt_number": 1
    }
   ],
   "metadata": {}
  }
 ]
}